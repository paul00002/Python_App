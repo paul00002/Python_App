{
 "cells": [
  {
   "cell_type": "code",
   "execution_count": null,
   "metadata": {},
   "outputs": [],
   "source": [
    "# 1. **Contatore caratteri**  \n",
    "#    Crea un dizionario che conta le occorrenze di ogni carattere in una stringa. Salva il dizionario \n",
    "mydict = {'key':'value'}"
   ]
  },
  {
   "cell_type": "markdown",
   "metadata": {},
   "source": [
    "# Type  python"
   ]
  },
  {
   "cell_type": "code",
   "execution_count": null,
   "metadata": {},
   "outputs": [],
   "source": [
    "dict\n",
    "int\n",
    "float\n",
    "str\n",
    "bool"
   ]
  },
  {
   "cell_type": "markdown",
   "metadata": {},
   "source": [
    "## Programmazione ad oggetti"
   ]
  },
  {
   "cell_type": "code",
   "execution_count": 17,
   "metadata": {},
   "outputs": [],
   "source": [
    "\n",
    "class Persona:\n",
    "    # Attributi\n",
    "    def __init__(self, nome, cognome):\n",
    "        self.n1 = nome\n",
    "        self.c1 = cognome\n",
    "\n",
    "    # Metodi\n",
    "    def cambianome(self, nuovo_nome):\n",
    "        self.n1 = nuovo_nome\n",
    "\n",
    "    def accedi(self):\n",
    "        return self.n1 , self.c1\n",
    "\n",
    "    def Commento(self , commento):\n",
    "        # definire il metodo\n",
    "        utente = 'nome:'+ self.n1 +'\\nCognome: '+self.c1+'\\n'\n",
    "        with open('comment.txt', 'w') as f:\n",
    "            f.write(utente + commento)\n",
    "        pass\n",
    "\n",
    "    def domanda(self):\n",
    "        # definire il metodo\n",
    "        pass\n"
   ]
  },
  {
   "cell_type": "code",
   "execution_count": 18,
   "metadata": {},
   "outputs": [
    {
     "name": "stdout",
     "output_type": "stream",
     "text": [
      "('pino', 'hernan')\n",
      "('paula', 'bravo')\n"
     ]
    }
   ],
   "source": [
    "p1 = Persona(nome='pino',cognome='hernan')\n",
    "print(p1.accedi())\n",
    "\n",
    "p2 = Persona(nome='paula',cognome='bravo')\n",
    "print(p2.accedi())"
   ]
  },
  {
   "cell_type": "code",
   "execution_count": 16,
   "metadata": {},
   "outputs": [
    {
     "data": {
      "text/plain": [
       "('carlo', 'bravo')"
      ]
     },
     "execution_count": 16,
     "metadata": {},
     "output_type": "execute_result"
    }
   ],
   "source": [
    "p2.accedi()"
   ]
  },
  {
   "cell_type": "code",
   "execution_count": 19,
   "metadata": {},
   "outputs": [],
   "source": [
    "p2.Commento('devo correre 40 km!')"
   ]
  },
  {
   "cell_type": "code",
   "execution_count": null,
   "metadata": {},
   "outputs": [],
   "source": [
    "p2.cambianome(nuovo_nome='pino')\n",
    "p2.Commento('Sono grande !')"
   ]
  }
 ],
 "metadata": {
  "kernelspec": {
   "display_name": "Python 3",
   "language": "python",
   "name": "python3"
  },
  "language_info": {
   "codemirror_mode": {
    "name": "ipython",
    "version": 3
   },
   "file_extension": ".py",
   "mimetype": "text/x-python",
   "name": "python",
   "nbconvert_exporter": "python",
   "pygments_lexer": "ipython3",
   "version": "3.13.2"
  }
 },
 "nbformat": 4,
 "nbformat_minor": 2
}
